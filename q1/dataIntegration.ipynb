{
 "cells": [
  {
   "cell_type": "code",
   "execution_count": 1,
   "id": "cf9885ef-cc45-4f6d-98ba-9dc2aef7c68d",
   "metadata": {},
   "outputs": [],
   "source": [
    "import pandas as pd\n",
    "import zipfile\n",
    "import json\n",
    "import requests"
   ]
  },
  {
   "cell_type": "markdown",
   "id": "542ed862-4038-4d89-a91b-71a1c63e0cc3",
   "metadata": {},
   "source": [
    "## Create Necessary Data Files"
   ]
  },
  {
   "cell_type": "code",
   "execution_count": 2,
   "id": "307be92a-30ef-4941-b228-3edb324e07da",
   "metadata": {},
   "outputs": [],
   "source": [
    "path = '../data/'\n",
    "fname = 'CTA_ORIGINAL.csv.zip'\n",
    "fnames = ['cta_unique_stations.csv', 'income.csv', 'pct_college.csv', 'pct_white_pop2010.csv', 'pct_white_pop2020.csv']\n",
    "state = '17' ## Illinois\n",
    "county = '031' ## Cook County\n",
    "\n",
    "## Income ##\n",
    "url = 'https://api.census.gov/data/2019/acs/acs5/subject?get=S1901_C01_012E&for=tract:*&in=state:{}%20county:{}'.format(state,county)\n",
    "json_req = requests.get(url).json()\n",
    "income = pd.DataFrame(json_req[1:], columns = json_req[0])\n",
    "income['geoID'] = income['state']+income['county']+income['tract']\n",
    "income = income.rename(columns={'S1901_C01_012E': 'medianIncome'})\n",
    "income = income.drop(labels=['state', 'county', 'tract'],axis=1)\n",
    "\n",
    "## Educational Attainment ##\n",
    "url = 'https://api.census.gov/data/2019/acs/acs5/subject?get=S1501_C01_006E,S1501_C01_015E&for=tract:*&in=state:{}%20county:{}'.format(state,county)\n",
    "json_req = requests.get(url).json()\n",
    "education = pd.DataFrame(json_req[1:], columns = json_req[0])\n",
    "education['geoID'] = education['state']+education['county']+education['tract']\n",
    "education = education.rename(columns={'S1501_C01_006E': 'total25PlusPop', 'S1501_C01_015E': 'BachelorPlus'})\n",
    "education = education.drop(labels=['state', 'county', 'tract'],axis=1)\n",
    "\n",
    "## Percent White Alone 2010 ##\n",
    "url = 'https://api.census.gov/data/2010/dec/sf1?get=P008001,P008003&for=tract:*&in=state:{}%20county:{}'.format(state,county)\n",
    "json_req = requests.get(url).json()\n",
    "pctWhite2010 = pd.DataFrame(json_req[1:], columns = json_req[0])\n",
    "pctWhite2010['geoID'] = pctWhite2010['state']+pctWhite2010['county']+pctWhite2010['tract']\n",
    "pctWhite2010 = pctWhite2010.rename(columns={'P008001': 'total', 'P008003': 'whiteAlone'})\n",
    "pctWhite2010 = pctWhite2010.drop(labels=['state', 'county', 'tract'],axis=1)\n",
    "\n",
    "## Percent White Alone 2020 ##\n",
    "url = 'https://api.census.gov/data/2020/dec/pl?get=P1_001N,P1_003N&for=tract:*&in=state:{}%20county:{}'.format(state,county)\n",
    "json_req = requests.get(url).json()\n",
    "pctWhite2020 = pd.DataFrame(json_req[1:], columns = json_req[0])\n",
    "pctWhite2020['geoID'] = pctWhite2020['state']+pctWhite2020['county']+pctWhite2020['tract']\n",
    "pctWhite2020 = pctWhite2020.rename(columns={'P1_001N': 'total', 'P1_003N': 'whiteAlone'})\n",
    "pctWhite2020 = pctWhite2020.drop(labels=['state', 'county', 'tract'],axis=1)\n",
    "\n",
    "income.to_csv(path+'income.csv', index=False)\n",
    "education.to_csv(path+'pct_college.csv',index=False)\n",
    "pctWhite2010.to_csv(path+'pct_white_pop2010.csv',index=False)\n",
    "pctWhite2020.to_csv(path+'pct_white_pop2020.csv',index=False)"
   ]
  },
  {
   "cell_type": "markdown",
   "id": "2e051d37-a99f-44bf-a64f-072286f0bf02",
   "metadata": {},
   "source": [
    "## Load in Data Files"
   ]
  },
  {
   "cell_type": "code",
   "execution_count": 3,
   "id": "e40e2ffc-a5de-454d-9791-75e31af7110e",
   "metadata": {},
   "outputs": [],
   "source": [
    "## Unzip DataFile ##\n",
    "with zipfile.ZipFile(path+fname,\"r\") as zip_ref:\n",
    "    zip_ref.extractall(path)\n",
    "rides = pd.read_csv(path+fname[:-4])\n",
    "\n",
    "## Create DataFrames for other files ##\n",
    "dataframes = {}\n",
    "for fname in fnames:\n",
    "    dataframes[fname[:-4]] = pd.read_csv(path+fname)"
   ]
  },
  {
   "cell_type": "markdown",
   "id": "1a71cf35-f37b-4715-8ce5-abebfb355031",
   "metadata": {},
   "source": [
    "## Link Stations to Census Blocks"
   ]
  },
  {
   "cell_type": "code",
   "execution_count": 4,
   "id": "c2dacfb2-66ee-44f9-8e09-bd4ead043075",
   "metadata": {},
   "outputs": [],
   "source": [
    "## Link Stations to Census Blocks ##\n",
    "def find_geoid2010(lat, long):\n",
    "    url = 'https://geo.fcc.gov/api/census/area?lat=' + str(lat)  + '&lon=' + str(long) + '&censusYear=2010&format=json'\n",
    "    json_req = requests.get(url).json()\n",
    "    return int(json_req['results'][0]['block_fips'][:-4]) ## [:-4] converts between fips and geoID\n",
    "\n",
    "def find_geoid2020(lat, long):\n",
    "    url = 'https://geo.fcc.gov/api/census/area?lat=' + str(lat)  + '&lon=' + str(long) + '&censusYear=2020&format=json'\n",
    "    json_req = requests.get(url).json()\n",
    "    return int(json_req['results'][0]['block_fips'][:-4]) ## [:-4] converts between fips and geoID\n",
    "\n",
    "dataframes['cta_unique_stations']['geoID2010'] = dataframes['cta_unique_stations'].apply(lambda row: find_geoid2010(row['LAT'],row['LONG']), axis=1)\n",
    "dataframes['cta_unique_stations']['geoID2020'] = dataframes['cta_unique_stations'].apply(lambda row: find_geoid2020(row['LAT'],row['LONG']), axis=1)\n",
    "dataframes['cta_unique_stations']['geoID2010'] = pd.to_numeric(dataframes['cta_unique_stations']['geoID2010'])\n",
    "dataframes['cta_unique_stations']['geoID2020'] = pd.to_numeric(dataframes['cta_unique_stations']['geoID2020'])"
   ]
  },
  {
   "cell_type": "code",
   "execution_count": 5,
   "id": "53952842-3c4a-410a-9a86-2a27d1b83478",
   "metadata": {},
   "outputs": [
    {
     "name": "stdout",
     "output_type": "stream",
     "text": [
      "<class 'pandas.core.frame.DataFrame'>\n",
      "RangeIndex: 143 entries, 0 to 142\n",
      "Data columns (total 21 columns):\n",
      " #   Column                    Non-Null Count  Dtype  \n",
      "---  ------                    --------------  -----  \n",
      " 0   STOP_ID                   143 non-null    int64  \n",
      " 1   DIRECTION_ID              143 non-null    object \n",
      " 2   STOP_NAME                 143 non-null    object \n",
      " 3   STATION_NAME              143 non-null    object \n",
      " 4   STATION_DESCRIPTIVE_NAME  143 non-null    object \n",
      " 5   MAP_ID                    143 non-null    int64  \n",
      " 6   ADA                       143 non-null    bool   \n",
      " 7   RED                       143 non-null    bool   \n",
      " 8   BLUE                      143 non-null    bool   \n",
      " 9   G                         143 non-null    bool   \n",
      " 10  BRN                       143 non-null    bool   \n",
      " 11  P                         143 non-null    bool   \n",
      " 12  Pexp                      143 non-null    bool   \n",
      " 13  Y                         143 non-null    bool   \n",
      " 14  Pnk                       143 non-null    bool   \n",
      " 15  O                         143 non-null    bool   \n",
      " 16  Location                  143 non-null    object \n",
      " 17  LAT                       143 non-null    float64\n",
      " 18  LONG                      143 non-null    float64\n",
      " 19  geoID2010                 143 non-null    int64  \n",
      " 20  geoID2020                 143 non-null    int64  \n",
      "dtypes: bool(10), float64(2), int64(4), object(5)\n",
      "memory usage: 13.8+ KB\n"
     ]
    }
   ],
   "source": [
    "## Convert Between FIPS and GEOID ##\n",
    "dataframes['cta_unique_stations'].info()"
   ]
  },
  {
   "cell_type": "markdown",
   "id": "54027dee-a8c4-44c8-ae18-807b8cd00ec8",
   "metadata": {},
   "source": [
    "## Link Stations to Income, Education Attainment, and White Population"
   ]
  },
  {
   "cell_type": "code",
   "execution_count": 6,
   "id": "8e3991a2-c513-4dca-a08c-6bcc7c1d3571",
   "metadata": {},
   "outputs": [],
   "source": [
    "fnames = ['income', 'pct_college']\n",
    "for fname in fnames:\n",
    "    dataframes['cta_unique_stations'] = dataframes['cta_unique_stations'].merge(dataframes[fname],how= 'inner', left_on='geoID2010', suffixes=('','_TRASH'),right_on='geoID')"
   ]
  },
  {
   "cell_type": "code",
   "execution_count": 7,
   "id": "7669b423-9505-44c9-8f23-6b157e2fc70c",
   "metadata": {},
   "outputs": [
    {
     "name": "stdout",
     "output_type": "stream",
     "text": [
      "<class 'pandas.core.frame.DataFrame'>\n",
      "Int64Index: 143 entries, 0 to 142\n",
      "Data columns (total 26 columns):\n",
      " #   Column                    Non-Null Count  Dtype  \n",
      "---  ------                    --------------  -----  \n",
      " 0   STOP_ID                   143 non-null    int64  \n",
      " 1   DIRECTION_ID              143 non-null    object \n",
      " 2   STOP_NAME                 143 non-null    object \n",
      " 3   STATION_NAME              143 non-null    object \n",
      " 4   STATION_DESCRIPTIVE_NAME  143 non-null    object \n",
      " 5   MAP_ID                    143 non-null    int64  \n",
      " 6   ADA                       143 non-null    bool   \n",
      " 7   RED                       143 non-null    bool   \n",
      " 8   BLUE                      143 non-null    bool   \n",
      " 9   G                         143 non-null    bool   \n",
      " 10  BRN                       143 non-null    bool   \n",
      " 11  P                         143 non-null    bool   \n",
      " 12  Pexp                      143 non-null    bool   \n",
      " 13  Y                         143 non-null    bool   \n",
      " 14  Pnk                       143 non-null    bool   \n",
      " 15  O                         143 non-null    bool   \n",
      " 16  Location                  143 non-null    object \n",
      " 17  LAT                       143 non-null    float64\n",
      " 18  LONG                      143 non-null    float64\n",
      " 19  geoID2010                 143 non-null    int64  \n",
      " 20  geoID2020                 143 non-null    int64  \n",
      " 21  medianIncome              143 non-null    int64  \n",
      " 22  total25PlusPop            143 non-null    int64  \n",
      " 23  BachelorPlus              143 non-null    int64  \n",
      " 24  whiteAloneFinal           143 non-null    float64\n",
      " 25  totalFinal                143 non-null    float64\n",
      "dtypes: bool(10), float64(4), int64(7), object(5)\n",
      "memory usage: 20.4+ KB\n"
     ]
    }
   ],
   "source": [
    "df2010 = dataframes['cta_unique_stations'].merge(dataframes['pct_white_pop2010'],how='inner',on='geoID')\n",
    "df2020 = dataframes['cta_unique_stations'].merge(dataframes['pct_white_pop2020'],how='inner',on='geoID')\n",
    "final = df2010.merge(df2020, how ='left', on='STOP_ID',suffixes=('','TRASH')).rename(columns={'whiteAloneTRASH': 'whiteAlone2', 'totalTRASH': 'total2'})\n",
    "final = final.drop(final.columns[final.columns.str.contains('TRASH$')], axis=1)\n",
    "final = final.drop('geoID', axis=1)\n",
    "\n",
    "final['whiteAloneFinal'] = final.apply(lambda row: row['whiteAlone2'] if not row['whiteAlone2'] else row['whiteAlone'],axis=1)\n",
    "final['totalFinal'] = final.apply(lambda row: row['total2'] if not row['total2'] else row['total'],axis=1)\n",
    "final = final.drop(['whiteAlone','whiteAlone2','total','total2'], axis=1)\n",
    "final.info()"
   ]
  },
  {
   "cell_type": "markdown",
   "id": "3fb626cd-0356-44f6-8c5e-b674d3369098",
   "metadata": {},
   "source": [
    "## Output to CSV"
   ]
  },
  {
   "cell_type": "code",
   "execution_count": 8,
   "id": "23ddf4cc-c603-437f-a2af-ad481b183a2a",
   "metadata": {},
   "outputs": [],
   "source": [
    "final.to_csv(path+'final_station_data.csv',index=False)"
   ]
  }
 ],
 "metadata": {
  "kernelspec": {
   "display_name": "Python 3 (ipykernel)",
   "language": "python",
   "name": "python3"
  },
  "language_info": {
   "codemirror_mode": {
    "name": "ipython",
    "version": 3
   },
   "file_extension": ".py",
   "mimetype": "text/x-python",
   "name": "python",
   "nbconvert_exporter": "python",
   "pygments_lexer": "ipython3",
   "version": "3.8.2"
  }
 },
 "nbformat": 4,
 "nbformat_minor": 5
}
